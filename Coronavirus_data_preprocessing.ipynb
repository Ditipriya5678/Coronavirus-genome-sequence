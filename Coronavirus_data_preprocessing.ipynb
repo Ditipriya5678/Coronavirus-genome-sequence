{
  "nbformat": 4,
  "nbformat_minor": 0,
  "metadata": {
    "colab": {
      "provenance": [],
      "include_colab_link": true
    },
    "kernelspec": {
      "name": "python3",
      "display_name": "Python 3"
    },
    "language_info": {
      "name": "python"
    }
  },
  "cells": [
    {
      "cell_type": "markdown",
      "metadata": {
        "id": "view-in-github",
        "colab_type": "text"
      },
      "source": [
        "<a href=\"https://colab.research.google.com/github/Ditipriya5678/Final-Year-Project/blob/main/Coronavirus_data_preprocessing.ipynb\" target=\"_parent\"><img src=\"https://colab.research.google.com/assets/colab-badge.svg\" alt=\"Open In Colab\"/></a>"
      ]
    },
    {
      "cell_type": "code",
      "execution_count": null,
      "metadata": {
        "colab": {
          "base_uri": "https://localhost:8080/"
        },
        "id": "bUnUMMYnyF8V",
        "outputId": "1bb6d9c9-aefb-4c24-cb11-c972131a3b6d"
      },
      "outputs": [
        {
          "output_type": "stream",
          "name": "stdout",
          "text": [
            "Looking in indexes: https://pypi.org/simple, https://us-python.pkg.dev/colab-wheels/public/simple/\n",
            "Collecting biopython\n",
            "  Downloading biopython-1.81-cp39-cp39-manylinux_2_17_x86_64.manylinux2014_x86_64.whl (3.1 MB)\n",
            "\u001b[2K     \u001b[90m━━━━━━━━━━━━━━━━━━━━━━━━━━━━━━━━━━━━━━━━\u001b[0m \u001b[32m3.1/3.1 MB\u001b[0m \u001b[31m64.6 MB/s\u001b[0m eta \u001b[36m0:00:00\u001b[0m\n",
            "\u001b[?25hRequirement already satisfied: numpy in /usr/local/lib/python3.9/dist-packages (from biopython) (1.22.4)\n",
            "Installing collected packages: biopython\n",
            "Successfully installed biopython-1.81\n"
          ]
        }
      ],
      "source": [
        "!pip install biopython"
      ]
    },
    {
      "cell_type": "code",
      "source": [
        "from Bio import SeqIO\n",
        "import numpy as np\n",
        "\n",
        "# Define the path to the fasta file\n",
        "fasta_file = '/content/coronavirus.fasta'\n",
        "\n",
        "# Parse the fasta file using the SeqIO module from Biopython\n",
        "sequences = []\n",
        "for record in SeqIO.parse(fasta_file, 'fasta'):\n",
        "    sequences.append(str(record.seq))\n",
        "\n",
        "# Define the nucleotides to use for one-hot encoding\n",
        "nucleotides = 'ACGT'\n",
        "\n",
        "# Define the number of classes (nucleotides) and sequences\n",
        "n_classes = len(nucleotides)\n",
        "n_sequences = len(sequences)\n",
        "\n",
        "# Define the sequence length as the length of the first sequence\n",
        "sequence_length = len(sequences[0])\n",
        "\n",
        "# Create an empty numpy array to store the one-hot encoded sequences\n",
        "one_hot_sequences = np.zeros((n_sequences, sequence_length, n_classes), dtype=np.uint8)\n",
        "\n",
        "# Loop through each sequence and one-hot encode it\n",
        "for i, sequence in enumerate(sequences):\n",
        "    for j, nucleotide in enumerate(sequence):\n",
        "        k = nucleotides.find(nucleotide)\n",
        "        if k != -1:\n",
        "            one_hot_sequences[i, j, k] = 1\n",
        "\n",
        "# Print the shape of the one-hot encoded sequences\n",
        "print(one_hot_sequences.shape)\n"
      ],
      "metadata": {
        "colab": {
          "base_uri": "https://localhost:8080/"
        },
        "id": "Ji3GdRA4yGkx",
        "outputId": "2061de05-8ff8-4516-e6d3-fa8ebd318a12"
      },
      "execution_count": null,
      "outputs": [
        {
          "output_type": "stream",
          "name": "stdout",
          "text": [
            "(9, 11925, 4)\n"
          ]
        }
      ]
    },
    {
      "cell_type": "code",
      "source": [],
      "metadata": {
        "id": "U-nD2dsoyGnH"
      },
      "execution_count": null,
      "outputs": []
    },
    {
      "cell_type": "code",
      "source": [],
      "metadata": {
        "id": "DXGmHpC2yGqQ"
      },
      "execution_count": null,
      "outputs": []
    },
    {
      "cell_type": "code",
      "source": [],
      "metadata": {
        "id": "AI8wK6BLyGuq"
      },
      "execution_count": null,
      "outputs": []
    },
    {
      "cell_type": "code",
      "source": [],
      "metadata": {
        "id": "oMmSbtGMyGxp"
      },
      "execution_count": null,
      "outputs": []
    },
    {
      "cell_type": "code",
      "source": [],
      "metadata": {
        "id": "M4hEftmbyG0b"
      },
      "execution_count": null,
      "outputs": []
    },
    {
      "cell_type": "code",
      "source": [],
      "metadata": {
        "id": "4j84mwUsyG3X"
      },
      "execution_count": null,
      "outputs": []
    }
  ]
}