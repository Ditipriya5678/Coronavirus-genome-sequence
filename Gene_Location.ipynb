{
  "nbformat": 4,
  "nbformat_minor": 0,
  "metadata": {
    "colab": {
      "provenance": [],
      "include_colab_link": true
    },
    "kernelspec": {
      "name": "python3",
      "display_name": "Python 3"
    },
    "language_info": {
      "name": "python"
    }
  },
  "cells": [
    {
      "cell_type": "markdown",
      "metadata": {
        "id": "view-in-github",
        "colab_type": "text"
      },
      "source": [
        "<a href=\"https://colab.research.google.com/github/Ditipriya5678/Coronavirus-genome-sequence/blob/main/Gene_Location.ipynb\" target=\"_parent\"><img src=\"https://colab.research.google.com/assets/colab-badge.svg\" alt=\"Open In Colab\"/></a>"
      ]
    },
    {
      "cell_type": "code",
      "source": [
        "!pip install biopython"
      ],
      "metadata": {
        "colab": {
          "base_uri": "https://localhost:8080/"
        },
        "id": "TY2pKPcXZa0_",
        "outputId": "4c1c3808-14ea-4da8-b7dd-96cecf322d22"
      },
      "execution_count": null,
      "outputs": [
        {
          "output_type": "stream",
          "name": "stdout",
          "text": [
            "Looking in indexes: https://pypi.org/simple, https://us-python.pkg.dev/colab-wheels/public/simple/\n",
            "Collecting biopython\n",
            "  Downloading biopython-1.81-cp39-cp39-manylinux_2_17_x86_64.manylinux2014_x86_64.whl (3.1 MB)\n",
            "\u001b[2K     \u001b[90m━━━━━━━━━━━━━━━━━━━━━━━━━━━━━━━━━━━━━━━━\u001b[0m \u001b[32m3.1/3.1 MB\u001b[0m \u001b[31m34.3 MB/s\u001b[0m eta \u001b[36m0:00:00\u001b[0m\n",
            "\u001b[?25hRequirement already satisfied: numpy in /usr/local/lib/python3.9/dist-packages (from biopython) (1.22.4)\n",
            "Installing collected packages: biopython\n",
            "Successfully installed biopython-1.81\n"
          ]
        }
      ]
    },
    {
      "cell_type": "code",
      "source": [
        "from Bio import SeqIO\n",
        "import matplotlib.pyplot as plt\n",
        "\n",
        "# Read the genome sequences from the .fasta file\n",
        "filename = \"coronavirus.fasta\"\n",
        "for record in SeqIO.parse(filename, \"fasta\"):\n",
        "    genome = record.seq\n",
        "    # Process the genome sequence here...\n",
        "\n",
        "# Define the gene locations\n",
        "gene_locations = [(50, 80), (81, 100), (101, 300)]  # example gene locations\n",
        "gene_names = [\"Gene1\", \"Gene2\", \"Gene3\"]  # example gene names\n",
        "\n",
        "# Create a figure to plot the genome sequence and genes\n",
        "fig, ax = plt.subplots(figsize=(20, 3))\n",
        "\n",
        "# Plot the genome sequence\n",
        "ax.plot(range(len(genome)), [0] * len(genome), color=\"gray\")\n",
        "\n",
        "# Plot the genes\n",
        "for loc, name in zip(gene_locations, gene_names):\n",
        "    start, end = loc\n",
        "    gene_seq = genome[start:end+1]\n",
        "    ax.axvspan(start, end, color=\"lightblue\", alpha=0.5)\n",
        "    ax.text((start+end)/2, 0.5, name, ha=\"center\", va=\"center\", fontsize=12)\n",
        "    ax.text((start+end)/2, 0, gene_seq, ha=\"center\", va=\"center\", fontsize=10)\n",
        "\n",
        "# Add labels and axis limits\n",
        "ax.set_xlim([0, len(genome)])\n",
        "ax.set_ylim([-1, 2])\n",
        "ax.set_xlabel(\"Genome position\")\n",
        "ax.set_yticks([])\n",
        "ax.set_title(\"Genome sequence with genes\")\n",
        "\n",
        "plt.show()\n"
      ],
      "metadata": {
        "colab": {
          "base_uri": "https://localhost:8080/",
          "height": 241
        },
        "id": "U-2sFgglZa3e",
        "outputId": "14f0c5f7-8d2a-4b31-b719-5aeb0c14823a"
      },
      "execution_count": null,
      "outputs": [
        {
          "output_type": "display_data",
          "data": {
            "text/plain": [
              "<Figure size 1440x216 with 1 Axes>"
            ],
            "image/png": "[encoded data removed]"
          },
          "metadata": {
            "needs_background": "light"
          }
        }
      ]
    },
    {
      "cell_type": "code",
      "source": [],
      "metadata": {
        "id": "GuB_lma4mGvI"
      },
      "execution_count": null,
      "outputs": []
    },
    {
      "cell_type": "code",
      "source": [],
      "metadata": {
        "id": "YewTSDutZa5s"
      },
      "execution_count": null,
      "outputs": []
    },
    {
      "cell_type": "code",
      "source": [],
      "metadata": {
        "id": "sfZW4OsUZa7b"
      },
      "execution_count": null,
      "outputs": []
    },
    {
      "cell_type": "code",
      "source": [],
      "metadata": {
        "id": "yRKK8aOhZa-r"
      },
      "execution_count": null,
      "outputs": []
    },
    {
      "cell_type": "code",
      "source": [],
      "metadata": {
        "id": "V8r3zG3jZbBy"
      },
      "execution_count": null,
      "outputs": []
    },
    {
      "cell_type": "code",
      "source": [],
      "metadata": {
        "id": "-ThnOlsBZbES"
      },
      "execution_count": null,
      "outputs": []
    }
  ]
}