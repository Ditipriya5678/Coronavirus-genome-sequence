{
  "nbformat": 4,
  "nbformat_minor": 0,
  "metadata": {
    "colab": {
      "provenance": [],
      "include_colab_link": true
    },
    "kernelspec": {
      "name": "python3",
      "display_name": "Python 3"
    },
    "language_info": {
      "name": "python"
    }
  },
  "cells": [
    {
      "cell_type": "markdown",
      "metadata": {
        "id": "view-in-github",
        "colab_type": "text"
      },
      "source": [
        "<a href=\"https://colab.research.google.com/github/Ditipriya5678/Coronavirus-genome-sequence/blob/main/SNP.ipynb\" target=\"_parent\"><img src=\"https://colab.research.google.com/assets/colab-badge.svg\" alt=\"Open In Colab\"/></a>"
      ]
    },
    {
      "cell_type": "code",
      "execution_count": null,
      "metadata": {
        "id": "Qq14HaKZTM8_"
      },
      "outputs": [],
      "source": []
    },
    {
      "cell_type": "code",
      "source": [],
      "metadata": {
        "id": "RQCoUbGKXYxV"
      },
      "execution_count": null,
      "outputs": []
    },
    {
      "cell_type": "code",
      "source": [],
      "metadata": {
        "id": "X-TjxnD1XYzy"
      },
      "execution_count": null,
      "outputs": []
    },
    {
      "cell_type": "code",
      "source": [
        "import matplotlib.pyplot as plt\n",
        "\n",
        "# Read the genome sequence from the .fasta file\n",
        "filename = \"coronavirus.fasta\"\n",
        "with open(filename, \"r\") as f:\n",
        "    genome = \"\"\n",
        "    for line in f:\n",
        "        if not line.startswith(\">\"):\n",
        "            genome += line.strip()\n",
        "\n",
        "# Define the SNP positions and alleles\n",
        "snp_positions = [1000, 2000, 3000, 4000]  # example positions\n",
        "snp_alleles = [\"A\", \"C\", \"G\", \"T\"]  # example alleles\n",
        "\n",
        "# Create a figure to plot the genome sequence and SNPs\n",
        "fig, ax = plt.subplots(figsize=(20, 3))\n",
        "\n",
        "# Plot the genome sequence\n",
        "ax.plot(range(len(genome)), [0] * len(genome), color=\"gray\")\n",
        "\n",
        "# Plot the SNPs\n",
        "for pos, allele in zip(snp_positions, snp_alleles):\n",
        "    if genome[pos] == allele:\n",
        "        color = \"green\"  # SNP matches the reference genome\n",
        "    else:\n",
        "        color = \"red\"  # SNP differs from the reference genome\n",
        "    ax.axvline(x=pos, color=color, linestyle=\":\", linewidth=3)\n",
        "\n",
        "# Add labels and axis limits\n",
        "ax.set_xlim([0, len(genome)])\n",
        "ax.set_ylim([-1, 1])\n",
        "ax.set_xlabel(\"Genome position\")\n",
        "ax.set_yticks([])\n",
        "ax.set_title(\"Genome sequence with SNPs\")\n",
        "\n",
        "plt.show()\n"
      ],
      "metadata": {
        "colab": {
          "base_uri": "https://localhost:8080/",
          "height": 241
        },
        "id": "Oi0OOQ6bXY2b",
        "outputId": "7feb667e-24b3-455f-ad7b-ea4aff6071d9"
      },
      "execution_count": null,
      "outputs": [
        {
          "output_type": "display_data",
          "data": {
            "text/plain": [
              "<Figure size 1440x216 with 1 Axes>"
            ],
            "image/png": "[encoded data removed]"
          },
          "metadata": {
            "needs_background": "light"
          }
        }
      ]
    },
    {
      "cell_type": "code",
      "source": [],
      "metadata": {
        "id": "YV7vW4TTXY4F"
      },
      "execution_count": null,
      "outputs": []
    },
    {
      "cell_type": "code",
      "source": [],
      "metadata": {
        "id": "rwDDVIp3XY7u"
      },
      "execution_count": null,
      "outputs": []
    },
    {
      "cell_type": "code",
      "source": [],
      "metadata": {
        "id": "i3ghoa30XY-r"
      },
      "execution_count": null,
      "outputs": []
    }
  ]
}