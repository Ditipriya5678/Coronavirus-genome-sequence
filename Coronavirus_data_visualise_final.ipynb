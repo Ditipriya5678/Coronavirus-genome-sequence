{
  "nbformat": 4,
  "nbformat_minor": 0,
  "metadata": {
    "colab": {
      "provenance": [],
      "include_colab_link": true
    },
    "kernelspec": {
      "name": "python3",
      "display_name": "Python 3"
    },
    "language_info": {
      "name": "python"
    }
  },
  "cells": [
    {
      "cell_type": "markdown",
      "metadata": {
        "id": "view-in-github",
        "colab_type": "text"
      },
      "source": [
        "<a href=\"https://colab.research.google.com/github/Ditipriya5678/Coronavirus-genome-sequence/blob/main/Coronavirus_data_visualise_final.ipynb\" target=\"_parent\"><img src=\"https://colab.research.google.com/assets/colab-badge.svg\" alt=\"Open In Colab\"/></a>"
      ]
    },
    {
      "cell_type": "markdown",
      "source": [],
      "metadata": {
        "id": "x67nelL-1XBp"
      }
    },
    {
      "cell_type": "code",
      "execution_count": null,
      "metadata": {
        "colab": {
          "base_uri": "https://localhost:8080/"
        },
        "id": "Vm69Rsyvu8fA",
        "outputId": "85200d41-e6a1-435b-a0f3-473c64f7cf3c"
      },
      "outputs": [
        {
          "output_type": "stream",
          "name": "stdout",
          "text": [
            "Looking in indexes: https://pypi.org/simple, https://us-python.pkg.dev/colab-wheels/public/simple/\n",
            "Requirement already satisfied: biopython in /usr/local/lib/python3.9/dist-packages (1.81)\n",
            "Requirement already satisfied: numpy in /usr/local/lib/python3.9/dist-packages (from biopython) (1.22.4)\n"
          ]
        }
      ],
      "source": [
        "!pip install biopython"
      ]
    },
    {
      "cell_type": "code",
      "source": [
        "from Bio import SeqIO\n",
        "import matplotlib.pyplot as plt\n",
        "\n",
        "# Define the path to the fasta file\n",
        "fasta_file = '/content/coronavirus.fasta'\n",
        "\n",
        "# Create an empty list to store the genome sequence\n",
        "genome = []"
      ],
      "metadata": {
        "id": "xBacUQ7b1ZBo"
      },
      "execution_count": null,
      "outputs": []
    },
    {
      "cell_type": "code",
      "source": [
        "# Parse the fasta file using the SeqIO module from Biopython\n",
        "for record in SeqIO.parse(fasta_file, 'fasta'):\n",
        "    genome.append(str(record.seq))\n",
        "\n",
        "# Concatenate the genome sequences\n",
        "full_genome = ''.join(genome)\n",
        "\n",
        "# Define the length of each segment to display\n",
        "segment_length = 100\n",
        "\n",
        "# Calculate the number of segments to display\n",
        "n_segments = len(full_genome) // segment_length\n",
        "\n",
        "# Split the genome sequence into segments of equal length\n",
        "segments = [full_genome[i*segment_length:(i+1)*segment_length] for i in range(n_segments)]\n",
        "\n",
        "# Create a figure to display the genome sequence\n",
        "fig, ax = plt.subplots(figsize=(15, 5))\n",
        "\n",
        "# Define the colors to use for each nucleotide\n",
        "colors = {'A': 'green', 'C': 'blue', 'G': 'orange', 'T': 'red'}\n",
        "\n",
        "# Loop through each segment and plot the nucleotides\n",
        "for i, segment in enumerate(segments):\n",
        "    for j, nucleotide in enumerate(segment):\n",
        "        ax.scatter(i*segment_length+j, 0, color=colors[nucleotide], marker='s')\n",
        "\n",
        "# Set the x-axis and y-axis limits\n",
        "ax.set_xlim(0, len(full_genome))\n",
        "ax.set_ylim(-1, 1)\n",
        "\n",
        "# Remove the y-axis ticks and labels\n",
        "ax.set_yticks([])\n",
        "ax.set_ylabel('')\n",
        "\n",
        "# Show the figure\n",
        "plt.show()\n"
      ],
      "metadata": {
        "colab": {
          "base_uri": "https://localhost:8080/",
          "height": 320
        },
        "id": "tvyJhiFv1XN2",
        "outputId": "6e9ae557-dd2b-4ed9-8496-b09b6420fbbd"
      },
      "execution_count": null,
      "outputs": [
        {
          "output_type": "display_data",
          "data": {
            "text/plain": [
              "<Figure size 1080x360 with 1 Axes>"
            ],
            "image/png": "[encoded data removed]"
          },
          "metadata": {
            "needs_background": "light"
          }
        }
      ]
    },
    {
      "cell_type": "code",
      "source": [],
      "metadata": {
        "id": "C6G5CQMI1XQ9"
      },
      "execution_count": null,
      "outputs": []
    }
  ]
}