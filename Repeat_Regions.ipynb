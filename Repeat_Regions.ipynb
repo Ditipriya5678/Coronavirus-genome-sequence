{
  "nbformat": 4,
  "nbformat_minor": 0,
  "metadata": {
    "colab": {
      "provenance": [],
      "include_colab_link": true
    },
    "kernelspec": {
      "name": "python3",
      "display_name": "Python 3"
    },
    "language_info": {
      "name": "python"
    }
  },
  "cells": [
    {
      "cell_type": "markdown",
      "metadata": {
        "id": "view-in-github",
        "colab_type": "text"
      },
      "source": [
        "<a href=\"https://colab.research.google.com/github/Ditipriya5678/Coronavirus-genome-sequence/blob/main/Repeat_Regions.ipynb\" target=\"_parent\"><img src=\"https://colab.research.google.com/assets/colab-badge.svg\" alt=\"Open In Colab\"/></a>"
      ]
    },
    {
      "cell_type": "code",
      "execution_count": null,
      "metadata": {
        "id": "NGLiSXSGTR_C"
      },
      "outputs": [],
      "source": []
    },
    {
      "cell_type": "code",
      "source": [],
      "metadata": {
        "id": "Rx2ni0CkU0iP"
      },
      "execution_count": null,
      "outputs": []
    },
    {
      "cell_type": "code",
      "source": [
        "!pip install biopython"
      ],
      "metadata": {
        "colab": {
          "base_uri": "https://localhost:8080/"
        },
        "id": "t7wdjSplU0k5",
        "outputId": "6faf7c02-2f70-4055-a6e5-8af077283697"
      },
      "execution_count": null,
      "outputs": [
        {
          "output_type": "stream",
          "name": "stdout",
          "text": [
            "Looking in indexes: https://pypi.org/simple, https://us-python.pkg.dev/colab-wheels/public/simple/\n",
            "Collecting biopython\n",
            "  Downloading biopython-1.81-cp39-cp39-manylinux_2_17_x86_64.manylinux2014_x86_64.whl (3.1 MB)\n",
            "\u001b[2K     \u001b[90m━━━━━━━━━━━━━━━━━━━━━━━━━━━━━━━━━━━━━━━━\u001b[0m \u001b[32m3.1/3.1 MB\u001b[0m \u001b[31m45.8 MB/s\u001b[0m eta \u001b[36m0:00:00\u001b[0m\n",
            "\u001b[?25hRequirement already satisfied: numpy in /usr/local/lib/python3.9/dist-packages (from biopython) (1.22.4)\n",
            "Installing collected packages: biopython\n",
            "Successfully installed biopython-1.81\n"
          ]
        }
      ]
    },
    {
      "cell_type": "code",
      "source": [
        "from Bio import SeqIO\n",
        "import matplotlib.pyplot as plt\n",
        "\n",
        "# Load the genome sequences in FASTA format\n",
        "records = SeqIO.parse(\"coronavirus.fasta\", \"fasta\")\n",
        "\n",
        "# Loop over the sequences and process each one\n",
        "for record in records:\n",
        "    sequence = str(record.seq)\n",
        "    # Add your code here to process each sequence\n",
        "\n",
        "# Find repeat regions using a simple algorithm that looks for consecutive identical sequences\n",
        "repeats = []\n",
        "current_repeat = {'start': None, 'end': None}\n",
        "for i in range(1, len(sequence)):\n",
        "    if sequence[i] == sequence[i-1]:\n",
        "        if current_repeat['start'] is None:\n",
        "            current_repeat['start'] = i-1\n",
        "        current_repeat['end'] = i\n",
        "    else:\n",
        "        if current_repeat['start'] is not None:\n",
        "            repeats.append(current_repeat)\n",
        "            current_repeat = {'start': None, 'end': None}\n",
        "if current_repeat['start'] is not None:\n",
        "    repeats.append(current_repeat)\n",
        "\n",
        "# Visualize the repeat regions as horizontal lines with different colors\n",
        "fig, ax = plt.subplots()\n",
        "for i, repeat in enumerate(repeats):\n",
        "    color = plt.cm.Set2(i)\n",
        "    ax.axhspan(0, 1, xmin=repeat['start']/len(sequence), xmax=repeat['end']/len(sequence),\n",
        "               facecolor=color, alpha=0.5)\n",
        "ax.set_xlim([0, 1])\n",
        "ax.set_ylim([0, 1])\n",
        "ax.set_yticks([])\n",
        "ax.set_title(f\"Repeat regions in {record.id}\")\n",
        "plt.show()\n",
        "\n"
      ],
      "metadata": {
        "colab": {
          "base_uri": "https://localhost:8080/",
          "height": 281
        },
        "id": "CnlALy_oU0nV",
        "outputId": "548d0c9e-63ec-47ca-f778-2907e152a3ac"
      },
      "execution_count": null,
      "outputs": [
        {
          "output_type": "display_data",
          "data": {
            "text/plain": [
              "<Figure size 432x288 with 1 Axes>"
            ],
            "image/png": "[encoded data removed]"
          },
          "metadata": {
            "needs_background": "light"
          }
        }
      ]
    },
    {
      "cell_type": "code",
      "source": [],
      "metadata": {
        "id": "TCrA4r6bU0pF"
      },
      "execution_count": null,
      "outputs": []
    },
    {
      "cell_type": "code",
      "source": [],
      "metadata": {
        "id": "226lPB2BU0se"
      },
      "execution_count": null,
      "outputs": []
    },
    {
      "cell_type": "code",
      "source": [],
      "metadata": {
        "id": "GZnsevYiU0uX"
      },
      "execution_count": null,
      "outputs": []
    },
    {
      "cell_type": "code",
      "source": [],
      "metadata": {
        "id": "L2OY8mFsU0x1"
      },
      "execution_count": null,
      "outputs": []
    }
  ]
}